{
 "cells": [
  {
   "cell_type": "code",
   "execution_count": null,
   "id": "5dd84b2d",
   "metadata": {},
   "outputs": [],
   "source": [
    "import numpy as np\n",
    "import pandas as pd\n",
    "import matplotlib.pyplot as plt\n",
    "import os\n",
    "from datetime import datetime"
   ]
  },
  {
   "cell_type": "code",
   "execution_count": null,
   "id": "3bfcbdac",
   "metadata": {},
   "outputs": [],
   "source": [
    "print(os.getcwd())\n",
    "print(os.listdir())"
   ]
  },
  {
   "cell_type": "code",
   "execution_count": null,
   "id": "44feeead",
   "metadata": {},
   "outputs": [],
   "source": [
    "# import dataset\n",
    "df = pd.read_csv('data/GlobalTemperatures.csv')\n",
    "df.head()"
   ]
  },
  {
   "cell_type": "code",
   "execution_count": null,
   "id": "62e6c7d0",
   "metadata": {},
   "outputs": [],
   "source": [
    "# creating an array with 2 variables \n",
    "df = df[['dt', 'LandAverageTemperature', 'LandMaxTemperature', 'LandMinTemperature']]\n",
    "df.head(10)\n",
    "df.tail(10)"
   ]
  },
  {
   "cell_type": "code",
   "execution_count": null,
   "id": "06f48d01",
   "metadata": {},
   "outputs": [],
   "source": [
    "# formatting as datetime \n",
    "df[\"dt\"] = pd.to_datetime(df[\"dt\"])\n",
    "# df.head(20)"
   ]
  },
  {
   "cell_type": "code",
   "execution_count": null,
   "id": "76899922",
   "metadata": {},
   "outputs": [],
   "source": [
    "# creating a variable \"year\"\n",
    "df['year'] = pd.Series([datetime.year for datetime in df['dt']])\n",
    "# df['year']\n",
    "# df.head()\n",
    "first_year = df['year'].min()\n",
    "last_year = df['year'].max()\n",
    "years = np.arange(first_year, last_year + 1)\n",
    "# print(years)"
   ]
  },
  {
   "cell_type": "code",
   "execution_count": null,
   "id": "594a9f96",
   "metadata": {},
   "outputs": [],
   "source": [
    "# preparing the data for plotting\n",
    "temp = []\n",
    "for year in years:\n",
    "    current_year = df[df['year'] == year] \n",
    "    temp.append(current_year['LandAverageTemperature'])\n",
    "\n",
    "# plt.plot for 12 different average temperatures per year (January - December)\n",
    "A, ax = plt.subplots(figsize = (12,8))\n",
    "plt.plot(years, temp)\n",
    "ax.set_xlabel(\"Temperature (Average)\")\n",
    "ax.set_ylabel(\"Year\")\n",
    "plt.show()"
   ]
  },
  {
   "cell_type": "code",
   "execution_count": null,
   "id": "f24b86bb",
   "metadata": {
    "scrolled": false
   },
   "outputs": [],
   "source": [
    "# plt.plot Mean values of temperatures over the 12 months per year\n",
    "temp = []\n",
    "for year in years:\n",
    "    current_year = df[df['year'] == year] \n",
    "    temp.append(current_year['LandAverageTemperature'].mean())  # with mean\n",
    "\n",
    "# plot\n",
    "A, ax = plt.subplots(figsize = (12,8))\n",
    "plt.plot(years, temp, color='r', label=\"LandAverageTemperature\")\n",
    "ax.set_xlabel(\"year\")\n",
    "ax.set_ylabel(\"Temperature (Average)\")\n",
    "plt.title(\"Average Temperature from 1750 to 2015\")\n",
    "plt.legend()\n",
    "plt.grid(True)\n",
    "plt.tight_layout()\n",
    "plt.show()"
   ]
  },
  {
   "cell_type": "code",
   "execution_count": null,
   "id": "d302f642",
   "metadata": {},
   "outputs": [],
   "source": [
    "df['month'] = pd.Series([datetime.month for datetime in df['dt']])\n",
    "df.head(15)\n",
    "\n",
    "def which_season(month):\n",
    "    if month>=3 and month<=5:\n",
    "        return 'Spring'\n",
    "    elif month>=6 and month<=8:\n",
    "        return 'Summer'\n",
    "    elif month>=9 and month<=11:\n",
    "        return 'Autumn'\n",
    "    return 'Winter'\n",
    "    \n",
    "df['season'] = df['month'].apply(which_season)\n",
    "# df"
   ]
  },
  {
   "cell_type": "code",
   "execution_count": null,
   "id": "0cdc114f",
   "metadata": {},
   "outputs": [],
   "source": [
    "# Differentiation based on the seasons\n",
    "temps_winter = []\n",
    "temps_spring = []\n",
    "temps_summer = []\n",
    "temps_autumn = []\n",
    "\n",
    "\n",
    "for year in years:\n",
    "    current_year = df[df['year'] == year] \n",
    "    temps_winter.append(current_year[current_year['season'] == 'Winter']['LandAverageTemperature'].mean())  \n",
    "    temps_spring.append(current_year[current_year['season'] == 'Spring']['LandAverageTemperature'].mean()) \n",
    "    temps_summer.append(current_year[current_year['season'] == 'Summer']['LandAverageTemperature'].mean()) \n",
    "    temps_autumn.append(current_year[current_year['season'] == 'Autumn']['LandAverageTemperature'].mean()) \n",
    "    \n",
    "# plot\n",
    "A, ax = plt.subplots(figsize = (15,10))\n",
    "plt.plot(years, temps_winter, label=\"AverageTemperature Winter\", color=\"b\")\n",
    "plt.plot(years, temps_spring, label=\"AverageTemperature Spring\", color=\"g\")\n",
    "plt.plot(years, temps_summer, label=\"AverageTemperature Summer\", color=\"r\")\n",
    "plt.plot(years, temps_autumn, label=\"AverageTemperature Autumn\", color=\"y\")\n",
    "ax.set_ylabel(\"Average Temperature of Seasons\")\n",
    "ax.set_xlabel(\"year\")\n",
    "plt.title(\"Average Temperature of all seasons from 1750 to 2015\")\n",
    "plt.grid(True)\n",
    "plt.legend()\n",
    "plt.tight_layout()\n",
    "plt.show()"
   ]
  },
  {
   "cell_type": "code",
   "execution_count": null,
   "id": "1397f3d6",
   "metadata": {},
   "outputs": [],
   "source": []
  }
 ],
 "metadata": {
  "kernelspec": {
   "display_name": "Python 3 (ipykernel)",
   "language": "python",
   "name": "python3"
  },
  "language_info": {
   "codemirror_mode": {
    "name": "ipython",
    "version": 3
   },
   "file_extension": ".py",
   "mimetype": "text/x-python",
   "name": "python",
   "nbconvert_exporter": "python",
   "pygments_lexer": "ipython3",
   "version": "3.9.7"
  }
 },
 "nbformat": 4,
 "nbformat_minor": 5
}
